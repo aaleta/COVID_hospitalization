{
 "cells": [
  {
   "cell_type": "code",
   "execution_count": null,
   "metadata": {},
   "outputs": [],
   "source": [
    "import pandas as pd\n",
    "import model as m\n",
    "import pymc3 as pm\n",
    "import model_helper as mh\n",
    "import theano.tensor as tt\n",
    "import numpy as np\n",
    "import matplotlib.pyplot as plt\n",
    "import seaborn as sns\n",
    "sns_c = sns.color_palette(palette='deep')"
   ]
  },
  {
   "cell_type": "code",
   "execution_count": null,
   "metadata": {},
   "outputs": [],
   "source": [
    "start_date = pd.to_datetime('2020-07-01')\n",
    "end_date = pd.to_datetime('2020-12-01')\n",
    "\n",
    "# Cases\n",
    "cases = pd.read_csv(\"data/casos_tecnica_ccaa.csv\")\n",
    "cases = cases.loc[cases[\"ccaa_iso\"] == \"AR\"]\n",
    "cases[\"fecha\"] = pd.to_datetime(cases[\"fecha\"])\n",
    "cases.set_index(\"fecha\", inplace=True)\n",
    "cases = cases[\"num_casos\"]\n",
    "cases_train = cases.loc[start_date:end_date]\n",
    "\n",
    "# Hospitalizaded\n",
    "hospitalized = pd.read_csv(\"data/casos_hosp_uci_def_sexo_edad_provres.csv\")\n",
    "hospitalized = hospitalized[hospitalized.provincia_iso.isin([\"Z\",\"HU\",\"TE\"])]\n",
    "hospitalized = hospitalized.groupby(\"fecha\").sum()\n",
    "hospitalized.index = pd.to_datetime(hospitalized.index)\n",
    "hospitalized = hospitalized[\"num_hosp\"]\n",
    "hospitalized_train = hospitalized.loc[start_date:end_date]"
   ]
  },
  {
   "cell_type": "code",
   "execution_count": null,
   "metadata": {},
   "outputs": [],
   "source": [
    "# Run model\n",
    "draws = 5000\n",
    "burn = 2000\n",
    "with m.admissions_model(cases_train, hospitalized_train) as model:\n",
    "    trace = pm.sample(draws, tune=burn)"
   ]
  },
  {
   "cell_type": "code",
   "execution_count": null,
   "metadata": {},
   "outputs": [],
   "source": [
    "import arviz as az\n",
    "az.summary(trace,hdi_prob=.95)"
   ]
  },
  {
   "cell_type": "code",
   "execution_count": null,
   "metadata": {},
   "outputs": [],
   "source": [
    "az.plot_trace(trace)"
   ]
  },
  {
   "cell_type": "code",
   "execution_count": null,
   "metadata": {},
   "outputs": [],
   "source": [
    "with model:\n",
    "    admissions = pm.sample_posterior_predictive(trace,10000)"
   ]
  },
  {
   "cell_type": "code",
   "execution_count": null,
   "metadata": {},
   "outputs": [],
   "source": [
    "dates = pd.date_range(start_date, end_date).strftime(\"%m-%d\")\n",
    "plot_dates = [dates[i] for i in range(0, len(hospitalized_train), 21)]\n",
    "\n",
    "posterior_quantile = np.percentile(admissions[\"admissions\"], [2.5, 25, 50, 75, 97.5], axis=0)\n",
    "\n",
    "# Plot daily number of admissions\n",
    "plt.plot(\n",
    "    dates, posterior_quantile[2, :],\n",
    "    color='b', label='posterior median', lw=2)\n",
    "\n",
    "plt.fill_between(\n",
    "    dates, posterior_quantile[0, :], posterior_quantile[4, :],\n",
    "    color='b', label='95% quantile', alpha=.2)\n",
    "\n",
    "plt.plot(\n",
    "      dates, hospitalized_train,\n",
    "      '--o', color='k', markersize=3,\n",
    "      label='Observed admissions', alpha=.8)\n",
    "\n",
    "plt.xticks(plot_dates)\n",
    "plt.ylabel('Daily number of admissions', fontsize='large')\n",
    "plt.xlabel('Day', fontsize='large')\n",
    "\n",
    "fontsize = 'medium'\n",
    "plt.legend(loc='upper left', fontsize=fontsize)\n",
    "\n",
    "plt.tight_layout();"
   ]
  },
  {
   "cell_type": "code",
   "execution_count": null,
   "metadata": {},
   "outputs": [],
   "source": [
    "end_date = pd.to_datetime('2021-07-12')\n",
    "cases_test = cases.loc[start_date:end_date]\n",
    "hospitalized_test = hospitalized.loc[start_date:end_date]\n",
    "\n",
    "with m.admissions_model(cases_test, np.empty(cases_test.shape)) as predictive_model:\n",
    "    prediction = pm.sample_posterior_predictive(trace, samples=5000)"
   ]
  },
  {
   "cell_type": "code",
   "execution_count": null,
   "metadata": {},
   "outputs": [],
   "source": [
    "dates = pd.date_range(start_date, end_date).strftime(\"%y-%m-%d\")\n",
    "plot_dates = [dates[i] for i in range(0, len(hospitalized_test), 28)]\n",
    "\n",
    "posterior_quantile = np.percentile(prediction[\"admissions\"], [2.5, 25, 50, 75, 97.5], axis=0)\n",
    "\n",
    "# Plot daily number of admissions\n",
    "plt.plot(\n",
    "    dates, posterior_quantile[2, :],\n",
    "    color='b', label='posterior median', lw=2)\n",
    "\n",
    "plt.fill_between(\n",
    "    dates, posterior_quantile[0, :], posterior_quantile[4, :],\n",
    "    color='b', label='95% quantile', alpha=.2)\n",
    "\n",
    "plt.plot(\n",
    "      dates, hospitalized_test,\n",
    "      '--o', color='k', markersize=3,\n",
    "      label='Observed admissions', alpha=.8)\n",
    "\n",
    "plt.xticks(plot_dates)\n",
    "plt.ylabel('Daily number of admissions', fontsize='large')\n",
    "plt.xlabel('Day', fontsize='large')\n",
    "\n",
    "fontsize = 'medium'\n",
    "plt.legend(loc='upper right', fontsize=fontsize)\n",
    "\n",
    "plt.tight_layout();"
   ]
  },
  {
   "cell_type": "markdown",
   "metadata": {},
   "source": [
    "# Output"
   ]
  },
  {
   "cell_type": "code",
   "execution_count": null,
   "metadata": {},
   "outputs": [],
   "source": [
    "np.savetxt(\"results/pH_admission_AR.txt\", trace[\"pH\", :])\n",
    "np.savetxt(\"results/beta_admission_AR.txt\", trace[\"admissions_beta\", :])\n",
    "np.savetxt(\"results/sigma_admission_AR.txt\", trace[\"sigma\", :])\n",
    "\n",
    "data = {\"median\" : posterior_quantile[2, :],\n",
    "        \"lower\" : posterior_quantile[0, :],\n",
    "        \"upper\" : posterior_quantile[4, :],\n",
    "        \"observed\" : hospitalized_test\n",
    "       }\n",
    "\n",
    "pd.DataFrame.from_dict(data).to_csv(\"results/values_admission_AR.csv\")"
   ]
  }
 ],
 "metadata": {
  "kernelspec": {
   "display_name": "venv",
   "language": "python",
   "name": "venv"
  },
  "language_info": {
   "codemirror_mode": {
    "name": "ipython",
    "version": 3
   },
   "file_extension": ".py",
   "mimetype": "text/x-python",
   "name": "python",
   "nbconvert_exporter": "python",
   "pygments_lexer": "ipython3",
   "version": "3.8.10"
  }
 },
 "nbformat": 4,
 "nbformat_minor": 4
}
